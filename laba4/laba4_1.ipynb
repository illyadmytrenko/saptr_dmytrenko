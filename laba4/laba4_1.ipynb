{
 "cells": [
  {
   "cell_type": "markdown",
   "metadata": {},
   "source": [
    "Лабораторна Робота №4"
   ]
  },
  {
   "cell_type": "markdown",
   "metadata": {},
   "source": [
    "Завдання. Торговельне підприємство планує продаж сезонних товарів на ринках, враховуючи можливі варіанти купівельного попиту ( П1, П2, П3, П4, П5) − дуже низький, низький, середній, високий та дуже високий. На підприємстві розроблено чотири господарських стратегії продажу товарів\n",
    "( А1, А2, А3, А4). Товарообіг, що залежить від стратегій підприємства й купівельного попиту, представлено у вигляді платіжної матриці.\n",
    "\n",
    "Платіжна матриця\n",
    "   П1\t              П2\t              П3\t         П4\t               П5\n",
    "A1\t180\t           140          \t  k  \t         (245 − 4k)\t      232\n",
    "A2\t420\t           (120+10k)\t        140          220\t            100\n",
    "A3\t(25 + 8k)\t     315\t              35\t         49                (10(k + 23) − 50)\n",
    "A4\t(290−10k)\t     k                 9     \t      (100k − 90)       201\n",
    "\n",
    "Потрібно знайти оптимальну стратегію поведінки торговельного підприємства, використовуючи критерії  песимізму, оптимізму, Гурвіца \n",
    "(λ = 1/k+3 при k = [1, 12];  λ = 4/k при k = [13, 26]), Лапласа, Байєса-Лапласа (p1= 0,1 p2 = 0,2  p3 = λ p4 = λ + 0,1 p5 = 1 − p1 − p2 − p3 − p4 )\n",
    " та Ходжа-Лемана.\n"
   ]
  },
  {
   "cell_type": "markdown",
   "metadata": {},
   "source": [
    "Згідно моєму варінту, k = 7. Знаходимо показник оптимізму, створуємо задану матрицю платежів, та масив ймовірністей виникнення всіх станів."
   ]
  },
  {
   "cell_type": "code",
   "execution_count": 64,
   "metadata": {},
   "outputs": [
    {
     "name": "stdout",
     "output_type": "stream",
     "text": [
      "Матриця платежів:\n",
      "[180 140   7 217 232]\n",
      "[420 190 140 220 100]\n",
      "[ 81 315  35  49 250]\n",
      "[220   7   9 610 201]\n"
     ]
    }
   ],
   "source": [
    "import numpy as np\n",
    "k = 7\n",
    "\n",
    "if k >= 1 | k <= 12: \n",
    "    optimism_indic = 1 / (k + 3)\n",
    "else:\n",
    "    optimism_indic = 4 / k\n",
    "\n",
    "payment_matrix = np.array([\n",
    "    [180, 140, k, (245-4*k), 232],\n",
    "    [420, (120+10*k), 140, 220, 100],\n",
    "    [(25+8*k), 315, 35, 49, (10*(k+23)-50)],\n",
    "    [(290-10*k), k, 9, (100*k-90), 201]\n",
    "])\n",
    "\n",
    "candidates = ['A1', 'A2', 'A3', 'A4']\n",
    "\n",
    "p = [0.1, 0.2, optimism_indic, optimism_indic + 0.1, 0.6 - 2 * optimism_indic]\n",
    "\n",
    "print(\"Матриця платежів:\")\n",
    "for i in range(0, len(payment_matrix)):\n",
    "    print(payment_matrix[i])\n"
   ]
  },
  {
   "cell_type": "markdown",
   "metadata": {},
   "source": [
    "Критерій песимізму. Вибирається така стратегія, яка забезпечує\n",
    "найкращий з найгірших результатів.\n"
   ]
  },
  {
   "cell_type": "code",
   "execution_count": 65,
   "metadata": {},
   "outputs": [
    {
     "name": "stdout",
     "output_type": "stream",
     "text": [
      "Масив мінімальних значень: [7, 100, 35, 7]\n",
      "Найкраща альтернатива за критерієм песимізму (максимальне значення): A2 - 100\n"
     ]
    }
   ],
   "source": [
    "pessimism_results = [min(alternate) for alternate in payment_matrix]\n",
    "\n",
    "best_result_pess = max(pessimism_results)\n",
    "best_index_pess = pessimism_results.index(max(pessimism_results))\n",
    "best_name_pess = candidates[best_index_pess]\n",
    "\n",
    "print(\"Масив мінімальних значень:\", pessimism_results)\n",
    "print(f\"Найкраща альтернатива за критерієм песимізму (максимальне значення): {best_name_pess} - {best_result_pess}\")"
   ]
  },
  {
   "cell_type": "markdown",
   "metadata": {},
   "source": [
    "Критерій оптимізму. зорієнтований на мінімізацію жалю із приводу втраченого прибутку й\n",
    "допускає розумний ризик заради отримання додаткового прибутку. Обираємо рішення, за якого максимальний жаль буде меншим, ніж за\n",
    "інших рішень:"
   ]
  },
  {
   "cell_type": "code",
   "execution_count": 66,
   "metadata": {},
   "outputs": [
    {
     "name": "stdout",
     "output_type": "stream",
     "text": [
      "Матриця програшів:\n",
      " [[240 175 133 393  18]\n",
      " [  0 125   0 390 150]\n",
      " [339   0 105 561   0]\n",
      " [200 308 131   0  49]]\n",
      "Масив максимальних значень: [393, 390, 561, 308]\n",
      "Найкраща альтернатива за критерієм оптимізму (мінімальне значення): A4 - 308\n"
     ]
    }
   ],
   "source": [
    "payment_matrix_transp = payment_matrix.transpose();\n",
    "max_in_col = [max(alternate) for alternate in payment_matrix_transp]\n",
    "\n",
    "matrix_loses = [max_in_col - payment_matrix]\n",
    "for i in range(0, len(matrix_loses)):\n",
    "   print(\"Матриця програшів:\\n\", matrix_loses[i])\n",
    "\n",
    "optimism_results = [max(value) for value in matrix_loses[0]]\n",
    "\n",
    "best_result_opt = min(optimism_results)\n",
    "best_index_opt = optimism_results.index(min(optimism_results))\n",
    "best_name_opt = candidates[best_index_opt]\n",
    "\n",
    "print(\"Масив максимальних значень:\", optimism_results)\n",
    "print(f\"Найкраща альтернатива за критерієм оптимізму (мінімальне значення): {best_name_opt} - {best_result_opt}\")"
   ]
  },
  {
   "cell_type": "markdown",
   "metadata": {},
   "source": [
    "Критерій Гурвіца. Цей\n",
    "критерій рекомендує в процесі прийняття рішення використовувати\n",
    "певний середній результат, що характеризує стан між крайнім песимізмом\n",
    "і крайнім оптимізмом.\n",
    "У випадку, коли гру задано матрицею виграшів за критерієм Гурвіца\n",
    "перевага віддається варіанту рішення, яке визначається максимумом серед\n",
    "лінійних комбінацій мінімального і максимального виграшів.\n"
   ]
  },
  {
   "cell_type": "code",
   "execution_count": 67,
   "metadata": {},
   "outputs": [
    {
     "name": "stdout",
     "output_type": "stream",
     "text": [
      "Масив утворених результатів: [209.5, 388.0, 287.0, 549.7]\n",
      "Найкраща альтернатива за критерієм Гурвіца (максимальне значення): A4 - 549.7\n"
     ]
    }
   ],
   "source": [
    "gurvitz_results = [(optimism_indic * min(alternate) + (1 - optimism_indic) * max(alternate)) for alternate in payment_matrix]\n",
    "\n",
    "best_result_gurvitz  = max(gurvitz_results)\n",
    "best_index_gurvitz = gurvitz_results.index(max(gurvitz_results))\n",
    "best_name_gurvitz= candidates[best_index_gurvitz]\n",
    "\n",
    "print(\"Масив утворених результатів:\", gurvitz_results)\n",
    "print(f\"Найкраща альтернатива за критерієм Гурвіца (максимальне значення): {best_name_gurvitz} - {best_result_gurvitz}\")"
   ]
  },
  {
   "cell_type": "markdown",
   "metadata": {},
   "source": [
    "Критерій Лапласа. Дозволяє\n",
    "відокремити кращий варіант у тому випадку, якщо жодна з умов не має\n",
    "істотної переваги.\n",
    "Коли немає ніяких підстав вважати, що кожний окремий стан\n",
    "природи більш імовірний у порівнянні з іншими, використовують\n",
    "припущення про те, що імовірність виникнення кожного з можливих\n",
    "станів оточуючого середовища однакова. Тоді оцінку середньої цінності\n",
    "кожної альтернативи можна обчислити за формулою звичайного\n",
    "середнього арифметичного всіх її можливих оцінок у різних станах\n",
    "природи. Оптимальною є та альтернатива, яка має найбільшу середню\n",
    "оцінку"
   ]
  },
  {
   "cell_type": "code",
   "execution_count": 68,
   "metadata": {},
   "outputs": [
    {
     "name": "stdout",
     "output_type": "stream",
     "text": [
      "Масив утворених результатів: [155.2, 214.0, 146.0, 209.4]\n",
      "Найкраща альтернатива за критерієм Лапласа (максимальне значення): A2 - 214.0\n"
     ]
    }
   ],
   "source": [
    "laplas_results = [sum(alternate) / len(alternate) for alternate in payment_matrix]\n",
    "\n",
    "best_result_laplas  = max(laplas_results)\n",
    "best_index_laplas = laplas_results.index(max(laplas_results))\n",
    "best_name_laplas = candidates[best_index_laplas]\n",
    "\n",
    "print(\"Масив утворених результатів:\", laplas_results)\n",
    "print(f\"Найкраща альтернатива за критерієм Лапласа (максимальне значення): {best_name_laplas} - {best_result_laplas}\")"
   ]
  },
  {
   "cell_type": "markdown",
   "metadata": {},
   "source": [
    "Критерій Байеса-Лапласа"
   ]
  },
  {
   "cell_type": "code",
   "execution_count": 69,
   "metadata": {},
   "outputs": [
    {
     "name": "stdout",
     "output_type": "stream",
     "text": [
      "Масив утворених результатів: [182.9, 178.0, 184.39999999999998, 226.7]\n",
      "Найкраща альтернатива за критерієм Байєса-Лапласа (максимальне значення): A4 - 226.7\n"
     ]
    }
   ],
   "source": [
    "bayes_laplas_results = [sum(value * probability for value, probability in zip(alternate, p)) for alternate in payment_matrix]\n",
    "\n",
    "best_result_bayes_laplas  = max(bayes_laplas_results)\n",
    "best_index_bayes_laplas = bayes_laplas_results.index(max(bayes_laplas_results))\n",
    "best_name_bayes_laplas = candidates[best_index_bayes_laplas]\n",
    "\n",
    "print(\"Масив утворених результатів:\", bayes_laplas_results)\n",
    "print(f\"Найкраща альтернатива за критерієм Байєса-Лапласа (максимальне значення): {best_name_bayes_laplas} - {best_result_bayes_laplas}\")"
   ]
  },
  {
   "cell_type": "markdown",
   "metadata": {},
   "source": [
    " Критерій Ходжа-Лемана. Є комбінацією критеріїв Байєса-Лапласа і Вальда із показником оптимізму є [0; 1], що характеризує ступінь довіри ОПР до імовірнісного розподілу виникнення можливих станів природи. "
   ]
  },
  {
   "cell_type": "code",
   "execution_count": 70,
   "metadata": {},
   "outputs": [
    {
     "name": "stdout",
     "output_type": "stream",
     "text": [
      "Масив утворених результатів: [24.590000000000003, 107.8, 49.94, 28.970000000000002]\n",
      "Найкраща альтернатива за Критерієм Ходжа-Лемана (максимальне значення) (λ = 0.1): A2 - 107.8\n"
     ]
    }
   ],
   "source": [
    "khoj_lehman_results = [ (1 - optimism_indic) * min(value) + optimism_indic * bayes_laplas_result  for bayes_laplas_result, value in zip(bayes_laplas_results, payment_matrix)]\n",
    "\n",
    "best_result_khoj_lehman  = max(khoj_lehman_results)\n",
    "best_index_khoj_lehman = khoj_lehman_results.index(max(khoj_lehman_results))\n",
    "best_name_khoj_lehman = candidates[best_index_khoj_lehman]\n",
    "\n",
    "print(\"Масив утворених результатів:\", khoj_lehman_results)\n",
    "print(f\"Найкраща альтернатива за Критерієм Ходжа-Лемана (максимальне значення) (λ = {optimism_indic}): {best_name_khoj_lehman} - {best_result_khoj_lehman}\")"
   ]
  }
 ],
 "metadata": {
  "kernelspec": {
   "display_name": "Python 3",
   "language": "python",
   "name": "python3"
  },
  "language_info": {
   "codemirror_mode": {
    "name": "ipython",
    "version": 3
   },
   "file_extension": ".py",
   "mimetype": "text/x-python",
   "name": "python",
   "nbconvert_exporter": "python",
   "pygments_lexer": "ipython3",
   "version": "3.11.0"
  }
 },
 "nbformat": 4,
 "nbformat_minor": 2
}
