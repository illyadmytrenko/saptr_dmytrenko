{
 "cells": [
  {
   "cell_type": "raw",
   "id": "e5a6a4ce-084f-444a-8add-cb6df36756f6",
   "metadata": {
    "tags": []
   },
   "source": [
    "Оголошуємо матриці попарних оцінок для 2 експертів"
   ]
  },
  {
   "cell_type": "code",
   "execution_count": 1,
   "id": "1a66825f-0d22-46a6-a1ef-b547e18e32cc",
   "metadata": {},
   "outputs": [
    {
     "name": "stdout",
     "output_type": "stream",
     "text": [
      "Матриця оцінок критеріїв експертів:\n",
      "1 Експерт:\n",
      "[1, 3, 3, 5, 7, 5, 3, 5]\n",
      "[0.333, 1, 2, 4, 5, 3, 2, 3]\n",
      "[0.333, 0.5, 1, 4, 5, 3, 2, 3]\n",
      "[0.2, 0.25, 0.25, 1, 3, 2, 1, 2]\n",
      "[0.142, 0.2, 0.2, 0.333, 1, 0.5, 0.333, 0.5]\n",
      "[0.2, 0.333, 0.333, 0.5, 2, 1, 0.333, 1]\n",
      "[0.333, 0.5, 0.5, 1, 3, 3, 1, 3]\n",
      "[0.2, 0.333, 0.333, 0.5, 2, 1, 0.333, 1]\n",
      "2 Експерт:\n",
      "[1, 2, 2, 4, 5, 1, 7, 5]\n",
      "[0.5, 1, 1, 3, 3, 1, 4, 3]\n",
      "[0.5, 1, 1, 3, 4, 0.5, 2, 4]\n",
      "[0.25, 0.333, 0.333, 1, 2, 0.333, 1, 2]\n",
      "[0.2, 0.333, 0.25, 0.5, 1, 0.25, 0.333, 1]\n",
      "[1, 1, 2, 3, 4, 1, 6, 8]\n",
      "[0.142, 0.25, 0.5, 1, 3, 0.166, 1, 1]\n",
      "[0.2, 0.333, 0.25, 0.5, 1, 0.125, 1, 1]\n"
     ]
    }
   ],
   "source": [
    "matrixExpertOne = [[1, 3, 3, 5, 7, 5, 3, 5], [0.333, 1, 2, 4, 5, 3, 2, 3], [0.333, 0.5, 1, 4, 5, 3, 2, 3],\n",
    "                  [0.2, 0.25, 0.25, 1, 3, 2, 1, 2], [0.142, 0.2, 0.2, 0.333, 1, 0.5, 0.333, 0.5],\n",
    "                  [0.2, 0.333, 0.333, 0.5, 2, 1, 0.333, 1], [0.333, 0.5, 0.5, 1, 3, 3, 1, 3],\n",
    "                  [0.2, 0.333, 0.333, 0.5, 2, 1, 0.333, 1]]\n",
    "\n",
    "matrixExpertTwo = [[1, 2, 2, 4, 5, 1, 7, 5], [0.5, 1, 1, 3, 3, 1, 4, 3], [0.5, 1, 1, 3, 4, 0.5, 2, 4],\n",
    "                  [0.25, 0.333, 0.333, 1, 2, 0.333, 1, 2], [0.2, 0.333, 0.25, 0.5, 1, 0.25, 0.333, 1],\n",
    "                  [1, 1, 2, 3, 4, 1, 6, 8], [0.142, 0.25, 0.5, 1, 3, 0.166, 1, 1], [0.2, 0.333, 0.25, 0.5, 1, 0.125, 1, 1]]\n",
    "\n",
    "print(\"Матриця оцінок критеріїв експертів:\")\n",
    "print(\"1 Експерт:\")\n",
    "for i in range(len(matrixExpertOne)):\n",
    "   print(matrixExpertOne[i])\n",
    "   \n",
    "print(\"2 Експерт:\")\n",
    "for i in range(len(matrixExpertTwo)):\n",
    "   print(matrixExpertTwo[i])"
   ]
  },
  {
   "cell_type": "raw",
   "id": "af110285-8c6e-4eb6-acd4-ba9dc93b2d13",
   "metadata": {
    "tags": []
   },
   "source": [
    "Оголошуємо функцію, яка буде знаходити нормовані вектори матриці"
   ]
  },
  {
   "cell_type": "code",
   "execution_count": 2,
   "id": "458a3ebe-6f94-48a0-9feb-83f3deb25d5a",
   "metadata": {},
   "outputs": [],
   "source": [
    "def getWeight(matrix: list): \n",
    "   sum = 0;\n",
    "   arrayWi = []\n",
    "   arrayWnorm = []\n",
    "   for i in range(len(matrix)):\n",
    "      temp = 1;\n",
    "      for j in range(len(matrix[i])):\n",
    "         temp *= matrix[i][j]\n",
    "      Wi = temp ** (1./len(matrix))\n",
    "      arrayWi.append(Wi);\n",
    "      sum += Wi\n",
    "   matrix.append(arrayWi)\n",
    "   for i in range(len(arrayWi)):\n",
    "      arrayWnorm.append(arrayWi[i]/sum)\n",
    "   matrix.append(arrayWnorm)"
   ]
  },
  {
   "cell_type": "raw",
   "id": "1415129b-3333-4d9e-bfef-d1e2ff29894e",
   "metadata": {},
   "source": [
    "Знаходимо нормовані вектори для матриць попарних оцінок 2 експертів, після чого знаходимо середнє значення пріорітетності критеріїв"
   ]
  },
  {
   "cell_type": "code",
   "execution_count": 3,
   "id": "4dcfe162-291a-475f-80dc-19edc2fbd6f1",
   "metadata": {},
   "outputs": [
    {
     "name": "stdout",
     "output_type": "stream",
     "text": [
      "Пріорітетність критеріїв 1 експерту у вигляді масиву:\n",
      " [0.3357922099060422, 0.1891782617858208, 0.1590793221796255, 0.07523337534746376, 0.031918776879799354, 0.05163503509444694, 0.10552798371235454, 0.05163503509444694]\n",
      "Пріорітетність критеріїв 2 експерту у вигляді масиву:\n",
      " [0.26217371105976855, 0.16004555159326686, 0.1446174810885187, 0.06435925010435253, 0.039155290296051394, 0.23462589781841994, 0.05382671179542983, 0.04119610624419219]\n",
      "Середнє значення пріорітетності критеріїв у вигляді масиву:\n",
      " [0.2967084255898842, 0.1740032736961208, 0.15167613809326227, 0.06958421962041429, 0.03535235458386665, 0.11006778124374196, 0.0753672632224212, 0.04612117075349918]\n"
     ]
    }
   ],
   "source": [
    "getWeight(matrixExpertOne)\n",
    "getWeight(matrixExpertTwo)\n",
    "\n",
    "print(\"Пріорітетність критеріїв 1 експерту у вигляді масиву:\\n\", matrixExpertOne[len(matrixExpertOne) - 1])\n",
    "print(\"Пріорітетність критеріїв 2 експерту у вигляді масиву:\\n\", matrixExpertTwo[len(matrixExpertTwo) - 1])\n",
    "\n",
    "arrayMo = []\n",
    "for i in range(len(matrixExpertOne[len(matrixExpertOne) - 1])):\n",
    "   arrayMo.append((matrixExpertOne[len(matrixExpertOne) - 1][i] * matrixExpertTwo[len(matrixExpertOne) - 1][i]) ** (1./2))\n",
    "print(\"Середнє значення пріорітетності критеріїв у вигляді масиву:\\n\", arrayMo)"
   ]
  },
  {
   "cell_type": "raw",
   "id": "458d83cd-403c-4f8c-b2d3-75d717917b54",
   "metadata": {},
   "source": [
    "Оголушуємо матриці оцінок альтернатив для 2 експертів"
   ]
  },
  {
   "cell_type": "code",
   "execution_count": 4,
   "id": "b4277908-4858-427d-ac26-628740c024d7",
   "metadata": {},
   "outputs": [
    {
     "name": "stdout",
     "output_type": "stream",
     "text": [
      "Матриця оцінок альтернатив 1 експерту:\n",
      "[[1, 5, 3], [0.2, 1, 0.333], [0.333, 3, 1]]\n",
      "[[1, 5, 3], [0.2, 1, 0.333], [0.333, 3, 1]]\n",
      "[[1, 1, 2], [1, 1, 2], [0.5, 0.5, 1]]\n",
      "[[1, 2, 0.2], [0.5, 1, 0.142], [5, 7, 1]]\n",
      "[[1, 0.5, 4], [2, 1, 8], [0.25, 0.125, 1]]\n",
      "[[1, 0.5, 4], [2, 1, 7], [0.25, 0.142, 1]]\n",
      "[[1, 0.333, 3], [3, 1, 9], [0.333, 0.111, 1]]\n",
      "[[1, 0.5, 4], [2, 1, 7], [0.25, 0.142, 1]]\n",
      "Матриця оцінок альтернатив 2 експерту:\n",
      "[[1, 7, 5], [0.142, 1, 0.5], [0.2, 2, 1]]\n",
      "[[1, 3, 0.333], [0.333, 1, 0.333], [3, 3, 1]]\n",
      "[[1, 0.5, 2], [2, 1, 4], [0.5, 0.25, 1]]\n",
      "[[1, 1, 0.2], [1, 1, 0.2], [5, 5, 1]]\n",
      "[[1, 0.333, 1], [3, 1, 8], [1, 0.125, 1]]\n",
      "[[1, 0.5, 6], [2, 1, 9], [0.166, 0.111, 1]]\n",
      "[[1, 0.333, 5], [3, 1, 9], [0.2, 0.111, 1]]\n",
      "[[1, 0.5, 4], [2, 1, 7], [0.25, 0.142, 1]]\n"
     ]
    }
   ],
   "source": [
    "matrixAlternativesExpertOne = [[[1, 5, 3], [0.2, 1, 0.333], [0.333, 3, 1]], [[1, 5, 3], [0.2, 1, 0.333], [0.333, 3, 1]],\n",
    "                              [[1, 1, 2], [1, 1, 2], [0.5, 0.5, 1]], [[1, 2, 0.2], [0.5, 1, 0.142], [5, 7, 1]],\n",
    "                              [[1, 0.5, 4], [2, 1, 8], [0.25, 0.125, 1]], [[1, 0.5, 4], [2, 1, 7], [0.25, 0.142, 1]],\n",
    "                              [[1, 0.333, 3], [3, 1, 9], [0.333, 0.111, 1]], [[1, 0.5, 4], [2, 1, 7], [0.25, 0.142, 1]]]\n",
    "\n",
    "print(\"Матриця оцінок альтернатив 1 експерту:\")\n",
    "for i in range(len(matrixAlternativesExpertOne)):\n",
    "   print(matrixAlternativesExpertOne[i])\n",
    "\n",
    "matrixAlternativesExpertTwo = [[[1, 7, 5], [0.142, 1, 0.5], [0.2, 2, 1]], [[1, 3, 0.333], [0.333, 1, 0.333], [3, 3, 1]],\n",
    "                              [[1, 0.5, 2], [2, 1, 4], [0.5, 0.25, 1]], [[1, 1, 0.2], [1, 1, 0.2], [5, 5, 1]],\n",
    "                              [[1, 0.333, 1], [3, 1, 8], [1, 0.125, 1]], [[1, 0.5, 6], [2, 1, 9], [0.166, 0.111, 1]], \n",
    "                              [[1, 0.333, 5], [3, 1, 9], [0.2, 0.111, 1]], [[1, 0.5, 4], [2, 1, 7], [0.25, 0.142, 1]]]\n",
    "                              \n",
    "print(\"Матриця оцінок альтернатив 2 експерту:\")\n",
    "for i in range(len(matrixAlternativesExpertTwo)):\n",
    "   print(matrixAlternativesExpertTwo[i])"
   ]
  },
  {
   "cell_type": "raw",
   "id": "729b3ef2-466d-4361-83a7-8e3de366863f",
   "metadata": {},
   "source": [
    "Знаходимо нормовані вектори для матриць оцінок альтернатив для 2 експертів"
   ]
  },
  {
   "cell_type": "code",
   "execution_count": 5,
   "id": "677ce504-9480-442e-b196-754a8b061832",
   "metadata": {},
   "outputs": [
    {
     "name": "stdout",
     "output_type": "stream",
     "text": [
      "Пріорітетність альтернатив 1 експерту у вигляді матриці:\n",
      "[0.6370626851037237, 0.10470718672526147, 0.2582301281710149]\n",
      "[0.6370626851037237, 0.10470718672526147, 0.2582301281710149]\n",
      "[0.39999999999999997, 0.39999999999999997, 0.19999999999999998]\n",
      "[0.1666245817123189, 0.09364225383240658, 0.7397331644552746]\n",
      "[0.3076923076923077, 0.6153846153846154, 0.07692307692307693]\n",
      "[0.3150810697756752, 0.602728403475172, 0.08219052674915282]\n",
      "[0.23072186965599945, 0.6923964847719675, 0.07688164557203309]\n",
      "[0.3150810697756752, 0.602728403475172, 0.08219052674915282]\n",
      "Пріорітетність альтернатив 2 експерту у вигляді матриці:\n",
      "[0.7397331644552746, 0.09364225383240658, 0.1666245817123189]\n",
      "[0.28079104000184996, 0.13494524050493664, 0.5842637194932133]\n",
      "[0.2857142857142857, 0.5714285714285714, 0.14285714285714285]\n",
      "[0.14285714285714288, 0.14285714285714288, 0.7142857142857143]\n",
      "[0.16998359582949785, 0.7073961330925599, 0.12262027107794214]\n",
      "[0.3333050028555289, 0.6056553843827567, 0.06103961276171448]\n",
      "[0.2653738916255261, 0.6716990004871869, 0.06292710788728703]\n",
      "[0.3150810697756752, 0.602728403475172, 0.08219052674915282]\n"
     ]
    }
   ],
   "source": [
    "for i in range(len(matrixAlternativesExpertOne)):\n",
    "   getWeight(matrixAlternativesExpertOne[i])\n",
    "\n",
    "print(\"Пріорітетність альтернатив 1 експерту у вигляді матриці:\")\n",
    "for i in range(len(matrixAlternativesExpertOne)):\n",
    "   print(matrixAlternativesExpertOne[i][len(matrixAlternativesExpertOne[i]) - 1])\n",
    "\n",
    "for i in range(len(matrixAlternativesExpertTwo)):\n",
    "   getWeight(matrixAlternativesExpertTwo[i])\n",
    "   \n",
    "print(\"Пріорітетність альтернатив 2 експерту у вигляді матриці:\")\n",
    "for i in range(len(matrixAlternativesExpertTwo)):\n",
    "   print(matrixAlternativesExpertTwo[i][len(matrixAlternativesExpertTwo[i]) - 1])"
   ]
  },
  {
   "cell_type": "raw",
   "id": "023ad044-4c9e-4836-84a3-3cbc39e93955",
   "metadata": {},
   "source": [
    "Створюємо матрицю максимальних пріорітетів альтернатив"
   ]
  },
  {
   "cell_type": "code",
   "execution_count": 6,
   "id": "6646f18d-15fb-4d97-a82e-52bfa12b8316",
   "metadata": {},
   "outputs": [
    {
     "name": "stdout",
     "output_type": "stream",
     "text": [
      "Матриця максимальних пріорітетів альтернатив:\n",
      "[0.7397331644552746, 0.6370626851037237, 0.39999999999999997, 0.1666245817123189, 0.3076923076923077, 0.3333050028555289, 0.2653738916255261, 0.3150810697756752]\n",
      "[0.10470718672526147, 0.13494524050493664, 0.5714285714285714, 0.14285714285714288, 0.7073961330925599, 0.6056553843827567, 0.6923964847719675, 0.602728403475172]\n",
      "[0.2582301281710149, 0.5842637194932133, 0.19999999999999998, 0.7397331644552746, 0.12262027107794214, 0.08219052674915282, 0.07688164557203309, 0.08219052674915282]\n"
     ]
    }
   ],
   "source": [
    "matrixMaxAlternatives = []\n",
    "for i in range(len(matrixAlternativesExpertOne[0][len(matrixAlternativesExpertOne[i]) - 1])):\n",
    "   temp = []\n",
    "   for j in range(len(matrixAlternativesExpertOne)):\n",
    "      if (matrixAlternativesExpertOne[j][len(matrixAlternativesExpertOne[j]) - 1][i] > matrixAlternativesExpertTwo[j][len(matrixAlternativesExpertTwo[j]) - 1][i]):\n",
    "         maxAlternative = matrixAlternativesExpertOne[j][len(matrixAlternativesExpertOne[j]) - 1][i]\n",
    "      else:\n",
    "         maxAlternative = matrixAlternativesExpertTwo[j][len(matrixAlternativesExpertTwo[j]) - 1][i]\n",
    "      temp.append(maxAlternative)\n",
    "   matrixMaxAlternatives.append(temp)\n",
    "\n",
    "print(\"Матриця максимальних пріорітетів альтернатив:\")\n",
    "for i in range(len(matrixMaxAlternatives)):\n",
    "   print(matrixMaxAlternatives[i])"
   ]
  },
  {
   "cell_type": "raw",
   "id": "80545895-a1b2-4a12-bab1-d5e86dcb1f07",
   "metadata": {},
   "source": [
    "Знаходимо найкращу альтернативу"
   ]
  },
  {
   "cell_type": "code",
   "execution_count": 7,
   "id": "38a261ce-f8fb-4760-ab33-e8a0e9fa8c53",
   "metadata": {},
   "outputs": [
    {
     "name": "stdout",
     "output_type": "stream",
     "text": [
      "Варіант  1  -  0.4846971535340031\n",
      "Варіант  2  -  0.32281493087455\n",
      "Варіант  3  -  0.28305836401596834\n",
      "Найкращий варіант -  1 . Глобальний пріорітет альтернатив =  0.4846971535340031\n"
     ]
    }
   ],
   "source": [
    "resultPrevios = 0\n",
    "for i in range(len(matrixMaxAlternatives)):\n",
    "   result = 0\n",
    "   for j in range(len(matrixAlternativesExpertOne)):\n",
    "      result += matrixMaxAlternatives[i][j] * arrayMo[j]\n",
    "   print(\"Варіант \", i + 1, \" - \", result)\n",
    "   if resultPrevios > result:\n",
    "      result = resultPrevios\n",
    "      continue\n",
    "   resultPrevios = result\n",
    "   number = i + 1\n",
    "print(\n",
    "   \"Найкращий варіант - \",\n",
    "   str(number),\n",
    "   \". Глобальний пріорітет альтернатив = \",\n",
    "   str(result),\n",
    ")"
   ]
  },
  {
   "cell_type": "code",
   "execution_count": null,
   "id": "e3eb0953-5a04-4752-a560-22a089677c5a",
   "metadata": {},
   "outputs": [],
   "source": []
  }
 ],
 "metadata": {
  "kernelspec": {
   "display_name": "Python 3",
   "language": "python",
   "name": "python3"
  },
  "language_info": {
   "codemirror_mode": {
    "name": "ipython",
    "version": 3
   },
   "file_extension": ".py",
   "mimetype": "text/x-python",
   "name": "python",
   "nbconvert_exporter": "python",
   "pygments_lexer": "ipython3",
   "version": "3.11.6"
  }
 },
 "nbformat": 4,
 "nbformat_minor": 5
}
