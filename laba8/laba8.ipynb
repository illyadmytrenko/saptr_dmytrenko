{
 "cells": [
  {
   "cell_type": "markdown",
   "metadata": {},
   "source": [
    "Лабораторна робота №8."
   ]
  },
  {
   "cell_type": "markdown",
   "metadata": {},
   "source": [
    "Варіант № 7.\n",
    "\n",
    "\n",
    "ЗАДАЧА  3.\n",
    "\n",
    "3\t12\t9\t1\t7\t350<br>\n",
    "2\t4\t11\t2\t10\t330<br>\n",
    "7\t14\t12\t5\t8\t270<br>\n",
    "210\t170 220\t150\t200\t<br>\n",
    "\n",
    "Метод північно-західного кута."
   ]
  },
  {
   "cell_type": "code",
   "execution_count": 286,
   "metadata": {},
   "outputs": [],
   "source": [
    "import numpy as np\n",
    "import openpyxl\n",
    "\n",
    "\n",
    "def getMatrixOutOfSheet(sheet):\n",
    "   matrix = []\n",
    "\n",
    "   for row in sheet.iter_rows(values_only = True):\n",
    "      matrix.append(row)\n",
    "\n",
    "   return np.array(matrix)\n",
    "\n",
    "\n",
    "def northwest_corner_method(supply, demand):\n",
    "   rows, cols = len(supply), len(demand)\n",
    "   allocations = np.zeros((rows, cols))\n",
    "   \n",
    "   i, j = 0, 0\n",
    "   \n",
    "   while i < rows and j < cols:\n",
    "      quantity = min(supply[i], demand[j])\n",
    "      allocations[i, j] = quantity\n",
    "      supply[i] -= quantity\n",
    "      demand[j] -= quantity\n",
    "\n",
    "      if supply[i] == 0:\n",
    "         i += 1\n",
    "\n",
    "      if demand[j] == 0:\n",
    "         j += 1\n",
    "\n",
    "   return allocations"
   ]
  },
  {
   "cell_type": "code",
   "execution_count": 287,
   "metadata": {},
   "outputs": [
    {
     "name": "stdout",
     "output_type": "stream",
     "text": [
      "Allocations:\n",
      " [[210. 140.   0.   0.   0.]\n",
      " [  0.  30. 220.  80.   0.]\n",
      " [  0.   0.   0.  70. 200.]]\n",
      "\n",
      "Total Cost: 6960.0\n"
     ]
    }
   ],
   "source": [
    "filePath = 'satpr8.xlsx'\n",
    "workbook = openpyxl.load_workbook(filePath)\n",
    "\n",
    "sheet = workbook['laba8']\n",
    "\n",
    "matrix = []\n",
    "\n",
    "matrix = getMatrixOutOfSheet(sheet)\n",
    "\n",
    "supply = matrix[:-1, -1]\n",
    "demand = matrix[-1, :-1]\n",
    "costs = matrix[:-1, :-1]\n",
    "\n",
    "allocations = northwest_corner_method(supply, demand)\n",
    "print(\"Allocations:\\n\",allocations)\n",
    "\n",
    "total_cost = np.sum(allocations * costs)\n",
    "print(\"\\nTotal Cost:\",total_cost)\n"
   ]
  }
 ],
 "metadata": {
  "kernelspec": {
   "display_name": "Python 3",
   "language": "python",
   "name": "python3"
  },
  "language_info": {
   "codemirror_mode": {
    "name": "ipython",
    "version": 3
   },
   "file_extension": ".py",
   "mimetype": "text/x-python",
   "name": "python",
   "nbconvert_exporter": "python",
   "pygments_lexer": "ipython3",
   "version": "3.11.7"
  }
 },
 "nbformat": 4,
 "nbformat_minor": 2
}
