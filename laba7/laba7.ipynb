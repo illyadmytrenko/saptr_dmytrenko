{
 "cells": [
  {
   "cell_type": "markdown",
   "metadata": {},
   "source": [
    "Лабораторна Робота №7.\n"
   ]
  },
  {
   "cell_type": "markdown",
   "metadata": {},
   "source": [
    "Задача голосування порядку денного \n",
    "(ранжування визначає значущість проекту та пріоритетність у фінансуванні) Список проектів-кандидатів: \n",
    "A. відновлення смертної кари \n",
    "B. легалізація наркотиків \n",
    "C. заборона алкогольної реклами на ТВ \n",
    "D. реєстрація гомосексуальних шлюбів \n",
    "\n",
    "Варіант № 7.\n",
    "  \n",
    "2\t8\t4\t6 <br>\n",
    "C\tB\tA\tC <br>\n",
    "A\tC\tB\tA <br>\n",
    "B\tA\tC\tD <br>\n",
    "D\tD\tD\tB <br>"
   ]
  },
  {
   "cell_type": "code",
   "execution_count": 339,
   "metadata": {
    "ExecuteTime": {
     "end_time": "2023-11-30T08:31:09.101517Z",
     "start_time": "2023-11-30T08:31:09.096929Z"
    },
    "collapsed": false
   },
   "outputs": [],
   "source": [
    "from collections import defaultdict\n",
    "import math\n",
    "\n",
    "votes = [\n",
    "   (\"C\", \"A\", \"B\", \"D\", 2),\n",
    "   (\"B\", \"C\", \"A\", \"D\", 8),\n",
    "   (\"A\", \"B\", \"C\", \"D\", 4),\n",
    "   (\"C\", \"A\", \"D\", \"B\", 6),\n",
    "]\n"
   ]
  },
  {
   "cell_type": "markdown",
   "metadata": {
    "collapsed": false
   },
   "source": [
    "### Абсолютна більшість"
   ]
  },
  {
   "cell_type": "code",
   "execution_count": 340,
   "metadata": {
    "ExecuteTime": {
     "end_time": "2023-11-30T08:31:09.109652Z",
     "start_time": "2023-11-30T08:31:09.104523Z"
    },
    "collapsed": false
   },
   "outputs": [
    {
     "name": "stdout",
     "output_type": "stream",
     "text": [
      "Правило абсолютної більшості: Переможець B з 12 голосами\n"
     ]
    }
   ],
   "source": [
    "def absolute_majority(votes):\n",
    "   scores = defaultdict(int)\n",
    "   \n",
    "   for vote in votes:\n",
    "      first_choice = vote[0]\n",
    "      scores[first_choice] += vote[-1]\n",
    "\n",
    "   half_candidates = math.ceil(len(scores) / 2)\n",
    "   best_candidates = dict(sorted(scores.items(), key=lambda x: x[1], reverse=True)[:half_candidates])\n",
    "\n",
    "   if len(best_candidates) > 1:\n",
    "      remaining_votes = []\n",
    "      for vote in votes:\n",
    "            remaining_vote = tuple(c for c in vote[:-1] if c in best_candidates)\n",
    "            if remaining_vote:\n",
    "               remaining_votes.append(remaining_vote + (vote[-1],))\n",
    "      absolute_majority(remaining_votes)\n",
    "   else:\n",
    "      winner = list(best_candidates.keys())[0]\n",
    "      print(f\"Правило абсолютної більшості: Переможець {winner} з {scores[winner]} голосами\")\n",
    "\n",
    "\n",
    "absolute_majority(votes)\n"
   ]
  },
  {
   "cell_type": "markdown",
   "metadata": {
    "collapsed": false
   },
   "source": [
    "### Відносна більшість"
   ]
  },
  {
   "cell_type": "code",
   "execution_count": 341,
   "metadata": {
    "ExecuteTime": {
     "end_time": "2023-11-30T08:31:09.117298Z",
     "start_time": "2023-11-30T08:31:09.110795Z"
    },
    "collapsed": false
   },
   "outputs": [
    {
     "name": "stdout",
     "output_type": "stream",
     "text": [
      "Правило абсолютної більшості: Переможець C з 8 голосами\n"
     ]
    }
   ],
   "source": [
    "def relative_majority(votes):\n",
    "    scores = defaultdict(int)\n",
    "\n",
    "    for vote in votes:\n",
    "        first_choice = vote[0]\n",
    "        scores[first_choice] += vote[-1]\n",
    "\n",
    "    winner = max(scores, key=scores.get)\n",
    "\n",
    "    print(f\"Правило абсолютної більшості: Переможець {winner} з {scores[winner]} голосами\")\n",
    "\n",
    "\n",
    "relative_majority(votes)"
   ]
  },
  {
   "cell_type": "markdown",
   "metadata": {
    "collapsed": false
   },
   "source": [
    "### Правило Борда"
   ]
  },
  {
   "cell_type": "code",
   "execution_count": 342,
   "metadata": {
    "ExecuteTime": {
     "end_time": "2023-11-30T08:31:09.154544Z",
     "start_time": "2023-11-30T08:31:09.128770Z"
    },
    "collapsed": false
   },
   "outputs": [
    {
     "name": "stdout",
     "output_type": "stream",
     "text": [
      "Переможець методом Борда: C з 44 балами.\n"
     ]
    }
   ],
   "source": [
    "def bord_rule(votes):\n",
    "    candidate_scores = defaultdict(int)\n",
    "\n",
    "    for vote in votes:\n",
    "        for i, candidate in enumerate(vote[:-1]):\n",
    "            candidate_scores[candidate] += vote[-1] * (3 - i)\n",
    "\n",
    "    sorted_candidates = sorted(candidate_scores.items(), key=lambda x: x[1], reverse=True)\n",
    "\n",
    "    winner, winning_score = sorted_candidates[0]\n",
    "    print(f\"Переможець методом Борда: {winner} з {winning_score} балами.\")\n",
    "\n",
    "\n",
    "bord_rule(votes)\n"
   ]
  },
  {
   "cell_type": "markdown",
   "metadata": {
    "collapsed": false
   },
   "source": [
    "### Правило Кондорсе"
   ]
  },
  {
   "cell_type": "code",
   "execution_count": 343,
   "metadata": {
    "ExecuteTime": {
     "end_time": "2023-11-30T08:31:09.154919Z",
     "start_time": "2023-11-30T08:31:09.143711Z"
    },
    "collapsed": false
   },
   "outputs": [
    {
     "name": "stdout",
     "output_type": "stream",
     "text": [
      "Переможець за правилом Кондорсе: B\n",
      "B порівняно з A 8 : 12\n",
      "B порівняно з D 14 : 6\n",
      "B порівняно з C 12 : 8\n"
     ]
    }
   ],
   "source": [
    "def condorcet_rule(votes):\n",
    "    candidates = set(candidate for vote in votes for candidate in vote[:-1])\n",
    "\n",
    "    pairwise_wins = {pair: 0 for pair in [(c1, c2) for c1 in candidates for c2 in candidates if c1 != c2]}\n",
    "\n",
    "    for vote in votes:\n",
    "        for i, candidate1 in enumerate(vote[:-1]):\n",
    "            for j in range(i + 1, len(vote) - 1):\n",
    "                candidate2 = vote[j]\n",
    "                pairwise_wins[(candidate1, candidate2)] += vote[-1]\n",
    "\n",
    "    condorcet_winner = max(candidates, key=lambda candidate: sum(pairwise_wins.get((candidate, other), 0) > pairwise_wins.get((other, candidate), 0) for other in candidates))\n",
    "\n",
    "    print(f\"Переможець за правилом Кондорсе: {condorcet_winner}\")\n",
    "\n",
    "    for other in candidates:\n",
    "        if condorcet_winner != other:\n",
    "            wins = pairwise_wins.get((condorcet_winner, other), 0)\n",
    "            loses = pairwise_wins.get((other, condorcet_winner), 0)\n",
    "            print(f\"{condorcet_winner} порівняно з {other} {wins} : {loses}\")\n",
    "\n",
    "\n",
    "condorcet_rule(votes)"
   ]
  },
  {
   "cell_type": "markdown",
   "metadata": {
    "collapsed": false
   },
   "source": [
    "### Правило Копленда"
   ]
  },
  {
   "cell_type": "code",
   "execution_count": 344,
   "metadata": {
    "ExecuteTime": {
     "end_time": "2023-11-30T08:31:09.155104Z",
     "start_time": "2023-11-30T08:31:09.149446Z"
    },
    "collapsed": false
   },
   "outputs": [
    {
     "name": "stdout",
     "output_type": "stream",
     "text": [
      "Переможець за правилом Копленда B з 1 балами.\n"
     ]
    }
   ],
   "source": [
    "def calculate_pairwise_votes(votes):\n",
    "    candidates = set(candidate for vote in votes for candidate in vote[:-1])\n",
    "\n",
    "    pairwise_votes = {pair: 0 for pair in [(c1, c2) for c1 in candidates for c2 in candidates if c1 != c2]}\n",
    "\n",
    "    for vote in votes:\n",
    "        for i, candidate1 in enumerate(vote[:-1]):\n",
    "            for j in range(i + 1, len(vote) - 1):\n",
    "                candidate2 = vote[j]\n",
    "                pairwise_votes[(candidate1, candidate2)] += vote[-1]\n",
    "\n",
    "    return pairwise_votes\n",
    "\n",
    "def copeland_rule(votes):\n",
    "    candidates = set(candidate for vote in votes for candidate in vote[:-1])\n",
    "\n",
    "    pairwise_votes = calculate_pairwise_votes(votes)\n",
    "\n",
    "    candidate_scores = {candidate: 0 for candidate in candidates}\n",
    "\n",
    "    for candidate_a in candidates:\n",
    "        for candidate_x in candidates:\n",
    "            if candidate_a != candidate_x:\n",
    "                if pairwise_votes[(candidate_a, candidate_x)] > pairwise_votes[(candidate_x, candidate_a)]:\n",
    "                    candidate_scores[candidate_a] += 1\n",
    "                elif pairwise_votes[(candidate_a, candidate_x)] < pairwise_votes[(candidate_x, candidate_a)]:\n",
    "                    candidate_scores[candidate_a] -= 1\n",
    "                    \n",
    "    winner = max(candidate_scores, key=candidate_scores.get)\n",
    "\n",
    "    print(f\"Переможець за правилом Копленда {winner} з {candidate_scores[winner]} балами.\")\n",
    "\n",
    "\n",
    "copeland_rule(votes)"
   ]
  },
  {
   "cell_type": "markdown",
   "metadata": {
    "collapsed": false
   },
   "source": [
    "### Правило Сімпсона"
   ]
  },
  {
   "cell_type": "code",
   "execution_count": 345,
   "metadata": {
    "ExecuteTime": {
     "end_time": "2023-11-30T08:31:09.168212Z",
     "start_time": "2023-11-30T08:31:09.154762Z"
    },
    "collapsed": false
   },
   "outputs": [
    {
     "name": "stdout",
     "output_type": "stream",
     "text": [
      "Переможець за правилом Сімпсона B з 8 балами.\n"
     ]
    }
   ],
   "source": [
    "def simpson_rule(votes):\n",
    "    candidates = set()\n",
    "    pairwise_sums = {}\n",
    "\n",
    "    for vote in votes:\n",
    "        for candidate in vote[:-1]:\n",
    "            candidates.add(candidate)\n",
    "\n",
    "    for candidate1 in candidates:\n",
    "        for candidate2 in candidates:\n",
    "            if candidate1 != candidate2:\n",
    "                pairwise_sums[(candidate1, candidate2)] = 0\n",
    "\n",
    "    for vote in votes:\n",
    "        for i in range(len(vote) - 1):\n",
    "            for j in range(i + 1, len(vote) - 1):\n",
    "                candidate1 = vote[i]\n",
    "                candidate2 = vote[j]\n",
    "                if candidate1 != candidate2:\n",
    "                    pairwise_sums[(candidate1, candidate2)] += vote[-1]\n",
    "\n",
    "    candidate_min_max_sums = {}\n",
    "    for candidate in candidates:\n",
    "        min_sum = min(pairwise_sums[(candidate, other)] for other in candidates if candidate != other)\n",
    "        candidate_min_max_sums[candidate] = min_sum\n",
    "\n",
    "    winner = max(candidate_min_max_sums, key=candidate_min_max_sums.get)\n",
    "\n",
    "    print(f\"Переможець за правилом Сімпсона {winner} з {candidate_min_max_sums[winner]} балами.\")\n",
    "\n",
    "\n",
    "simpson_rule(votes)"
   ]
  }
 ],
 "metadata": {
  "kernelspec": {
   "display_name": "Python 3",
   "language": "python",
   "name": "python3"
  },
  "language_info": {
   "codemirror_mode": {
    "name": "ipython",
    "version": 3
   },
   "file_extension": ".py",
   "mimetype": "text/x-python",
   "name": "python",
   "nbconvert_exporter": "python",
   "pygments_lexer": "ipython3",
   "version": "3.11.7"
  }
 },
 "nbformat": 4,
 "nbformat_minor": 0
}
